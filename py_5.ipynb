{
  "cells": [
    {
      "cell_type": "markdown",
      "metadata": {
        "id": "5t9waT2oUe2X"
      },
      "source": [
        "1. Write a Python program to find a list of integers with exactly two occurrences of nineteen\n",
        "and at least three occurrences of five\n",
        "Input:\n",
        "[19, 19, 15, 5, 3, 5, 5, 2]\n",
        "Output:\n",
        "True"
      ]
    },
    {
      "cell_type": "code",
      "execution_count": null,
      "metadata": {
        "colab": {
          "base_uri": "https://localhost:8080/"
        },
        "id": "AxpRE5dsUkDY",
        "outputId": "67973887-efd6-4091-a7af-f2b90a61bb28"
      },
      "outputs": [
        {
          "name": "stdout",
          "output_type": "stream",
          "text": [
            "True\n"
          ]
        }
      ],
      "source": [
        "a=[19,19,15,5,3,5,5,2]\n",
        "if a.count(19)==2 and a.count(5)==3:\n",
        "  print(True)\n",
        "  "
      ]
    },
    {
      "cell_type": "markdown",
      "metadata": {
        "id": "MYn9rBtEVM6y"
      },
      "source": [
        "2. Write a Python program to find a pair with highest product from a given array of integers.\n",
        "Examples :\n",
        "Input: arr[] = {1, 2, 3, 4, 7, 0, 8, 4}\n",
        "Output: {7,8}\n",
        "Input: arr[] = {0, -1, -2, -4, 5, 0, -6}\n",
        "Output: {-4, -6}"
      ]
    },
    {
      "cell_type": "code",
      "execution_count": null,
      "metadata": {
        "colab": {
          "base_uri": "https://localhost:8080/"
        },
        "id": "XroRkJ9RlEz-",
        "outputId": "1186300e-14fc-4e31-a4f9-ee5484b41c56"
      },
      "outputs": [
        {
          "name": "stdout",
          "output_type": "stream",
          "text": [
            " {7,8}\n"
          ]
        }
      ],
      "source": [
        "a={1, 2, 3, 4, 7, 0, 8, 4}\n",
        "arr=list(a)\n",
        "n=len(a)\n",
        "x=arr[0]\n",
        "y=arr[1]\n",
        "for i in range(0,n):\n",
        "  for j in range(i+1,n):\n",
        "    if (arr[i]*arr[j]>x*y):\n",
        "      x=arr[i]\n",
        "      y=arr[j]\n",
        "print(\" {\", x, \",\", y, \"}\",sep = \"\")\n",
        "\n"
      ]
    },
    {
      "cell_type": "markdown",
      "metadata": {
        "id": "IrpLfIpNxNAY"
      },
      "source": [
        "3.Write a Python program that accept a list of integers and check the length and the fifth element.\n",
        "Return true if the length of the list is 8 and fifth element occurs thrice in the said list. Go to the\n",
        "editor\n",
        "Input:\n",
        "[19, 19, 15, 5, 5, 5, 1, 2]\n",
        "Output:\n",
        "True\n",
        "Input:\n",
        "[19, 15, 5, 7, 5, 5, 2]\n",
        "Output:"
      ]
    },
    {
      "cell_type": "code",
      "execution_count": null,
      "metadata": {
        "colab": {
          "base_uri": "https://localhost:8080/"
        },
        "id": "VXz0kTbuxWCV",
        "outputId": "e6acc075-6261-439f-cd7a-3ee3ff393217"
      },
      "outputs": [
        {
          "output_type": "stream",
          "name": "stdout",
          "text": [
            "True\n"
          ]
        }
      ],
      "source": [
        "a=[19,19,15,5,5,5,1,2]\n",
        "if len(a)==8 and a.count(a[4])==3:\n",
        "  print(True)\n",
        "  \n",
        "\n"
      ]
    },
    {
      "cell_type": "markdown",
      "metadata": {
        "id": "4yqM9doImA9d"
      },
      "source": [
        "4. ARRAY CHELLENGE\n",
        "\n",
        "Have the function ArrayChallenge(arr) take the array of numbers stored in arr which will contain\n",
        "integers that represent the amount in dollars that a single stock is worth,and return the maximum\n",
        "profit that could have been made by buying stock on day X and selling stock on day Y where Y&gt;X .For\n",
        "example if array is [44,30,24,32,35,30,40,38,15] then your program should return 16 because at\n",
        "index 2 the stock was worth $24 and at index 6 the stock was then worth $40, so if you brought the\n",
        "stock at $24 and sold it at $40, you would have made a profit of $16,which is the maximum profit\n",
        "that could hve been made with this list of stock prices.\n",
        "If there is not profit that could have bveen made with the stock prices,then your program should\n",
        "return -1. For example arr is [10,9,8,2] then your program should return -1\n",
        "\n",
        "Example\n",
        "Input: [10,12,4,5,9]\n",
        "Output:5"
      ]
    },
    {
      "cell_type": "code",
      "execution_count": 1,
      "metadata": {
        "colab": {
          "base_uri": "https://localhost:8080/"
        },
        "id": "PSydm1GemIq1",
        "outputId": "47da8859-294f-4528-e733-f2a2c7d310ad"
      },
      "outputs": [
        {
          "output_type": "stream",
          "name": "stdout",
          "text": [
            "5\n"
          ]
        }
      ],
      "source": [
        "a=[10,12,4,5,9]\n",
        "n=len(a)\n",
        "li=[]\n",
        "for i in range(0,n):\n",
        "   for j in range(i+1,n):\n",
        "        if a[j]>a[i]:\n",
        "                p=a[j]-a[i]\n",
        "                li.append(p)\n",
        "  \n",
        "        else:\n",
        "              li.append(-1)\n",
        "print(max(li)) \n",
        "         \n",
        "                                 \n",
        "                                           "
      ]
    },
    {
      "cell_type": "code",
      "source": [
        "def ArrayChallenge(a):\n",
        "   n=len(a)\n",
        "   li=[]\n",
        "   for i in range(0,n):\n",
        "       for j in range(i+1,n):\n",
        "           if a[j]>a[i]:\n",
        "                p=a[j]-a[i]\n",
        "                li.append(p)\n",
        "  \n",
        "           else:\n",
        "               li.append(-1)\n",
        "   print(max(li)) \n",
        "ArrayChallenge([10,9,8,2])"
      ],
      "metadata": {
        "colab": {
          "base_uri": "https://localhost:8080/"
        },
        "id": "oG1nqesbuKiF",
        "outputId": "26b09883-608c-4b45-9758-7c20bde1d1d2"
      },
      "execution_count": 3,
      "outputs": [
        {
          "output_type": "stream",
          "name": "stdout",
          "text": [
            "-1\n"
          ]
        }
      ]
    }
  ],
  "metadata": {
    "colab": {
      "provenance": [],
      "collapsed_sections": []
    },
    "kernelspec": {
      "display_name": "Python 3",
      "name": "python3"
    },
    "language_info": {
      "name": "python"
    }
  },
  "nbformat": 4,
  "nbformat_minor": 0
}